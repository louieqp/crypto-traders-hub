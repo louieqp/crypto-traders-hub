{
 "cells": [
  {
   "cell_type": "code",
   "execution_count": 2,
   "metadata": {},
   "outputs": [],
   "source": [
    "import websocket\n",
    "import asyncio\n",
    "import os\n",
    "import json\n",
    "from datetime import datetime\n",
    "import base64\n",
    "import hmac\n",
    "import time\n",
    "import requests"
   ]
  },
  {
   "cell_type": "code",
   "execution_count": 4,
   "metadata": {},
   "outputs": [
    {
     "data": {
      "text/plain": [
       "str"
      ]
     },
     "execution_count": 4,
     "metadata": {},
     "output_type": "execute_result"
    }
   ],
   "source": [
    "type(datetime.now().strftime('%Y-%m-%d %H:%M:%S'))"
   ]
  },
  {
   "cell_type": "code",
   "execution_count": 1,
   "metadata": {},
   "outputs": [],
   "source": [
    "from bitget.ws.client import BitgetWsClient"
   ]
  },
  {
   "cell_type": "code",
   "execution_count": 5,
   "metadata": {},
   "outputs": [
    {
     "name": "stdout",
     "output_type": "stream",
     "text": [
      "start connecting... url:  wss://ws.bitget.com/mix/v1/stream\n",
      "start connecting... url:  wss://ws.bitget.com/mix/v1/stream\n",
      "connection is success....\n"
     ]
    },
    {
     "data": {
      "text/plain": [
       "<bitget.ws.client.BitgetWsClient at 0x7fbac1da07c0>"
      ]
     },
     "execution_count": 5,
     "metadata": {},
     "output_type": "execute_result"
    },
    {
     "name": "stdout",
     "output_type": "stream",
     "text": [
      "Keep connected:pong\n",
      "Keep connected:pong\n",
      "Keep connected:pong\n"
     ]
    }
   ],
   "source": [
    "client = BitgetWsClient('wss://ws.bitget.com/mix/v1/stream')\n",
    "client.build()"
   ]
  },
  {
   "cell_type": "code",
   "execution_count": 2,
   "metadata": {},
   "outputs": [],
   "source": [
    "BITGET_ACCESS_KEY = os.environ.get(\"BITGET_ACCESS_KEY\")\n",
    "BITGET_SECRET_KEY = os.environ.get(\"BITGET_SECRET_KEY\")\n",
    "BITGET_PASSPHRASE = os.environ.get(\"BITGET_PASSPHRASE\")"
   ]
  },
  {
   "cell_type": "code",
   "execution_count": 25,
   "metadata": {},
   "outputs": [],
   "source": [
    "def start_time():\n",
    "    return time.time()\n",
    "\n",
    "def time_elapsed(start):\n",
    "    return time.time()-start\n",
    "\n",
    "def get_sign(message, secret_key):\n",
    "    mac = hmac.new(bytes(secret_key, encoding='utf8'), bytes(message, encoding='utf-8'), digestmod='sha256')\n",
    "    d = mac.digest()\n",
    "    return base64.b64encode(d)\n",
    "\n",
    "\n",
    "def pre_hash(timestamp, method, request_path, body):\n",
    "    return str(timestamp) + str.upper(method) + request_path + body\n",
    "\n",
    "def get_timestamp(self):\n",
    "    url = \"https://api.bitget.com/api/spot/v1/public/time\"\n",
    "    response = requests.get(url)\n",
    "    if response.status_code == 200:\n",
    "        return response.json()['data']\n",
    "    else:\n",
    "        return \"\"\n",
    "\n",
    "def on_open(ws):\n",
    "    timestamp = get_timestamp()\n",
    "    sign = get_sign(pre_hash(timestamp, 'GET', '/user/verify', ''), BITGET_SECRET_KEY)\n",
    "    msg = json.dumps({\n",
    "        \"op\":\"login\",\n",
    "        \"args\":[\n",
    "            {\n",
    "                \"apiKey\": BITGET_ACCESS_KEY,\n",
    "                \"passphrase\": BITGET_PASSPHRASE,\n",
    "                \"timestamp\": str(timestamp),\n",
    "                \"sign\": bytes.decode(sign)\n",
    "            }\n",
    "        ]\n",
    "    })\n",
    "    ws.send(msg)\n",
    "    print(\"Opened connection\")\n",
    "\n",
    "def on_message(ws, msg):\n",
    "    print(msg)\n",
    "\n",
    "def on_close(ws, close_status_code, close_msg):\n",
    "    print(\"### Closed connection ###\")"
   ]
  },
  {
   "cell_type": "code",
   "execution_count": 33,
   "metadata": {},
   "outputs": [
    {
     "data": {
      "text/plain": [
       "(1665692032073, 1665692032073, 1665706432073)"
      ]
     },
     "execution_count": 33,
     "metadata": {},
     "output_type": "execute_result"
    }
   ],
   "source": [
    "now = datetime.now()\n",
    "# epoch time\n",
    "epoch_time = datetime(1970, 1, 1)\n",
    "# subtract datetime from Unix epoch datetime\n",
    "delta = (now - epoch_time).total_seconds()\n",
    "# timestamp = get_timestamp()\n",
    "sign = get_sign(pre_hash(timestamp, 'GET', '/user/verify', ''), BITGET_SECRET_KEY)\n",
    "msg = json.dumps({\n",
    "    \"op\":\"login\",\n",
    "    \"args\":[\n",
    "        {\n",
    "            \"apiKey\": BITGET_ACCESS_KEY,\n",
    "            \"passphrase\": BITGET_PASSPHRASE,\n",
    "            \"timestamp\": str(timestamp),\n",
    "            \"sign\": bytes.decode(sign)\n",
    "        }\n",
    "    ]\n",
    "})\n",
    "int(delta*1000), get_timestamp(), int(time.time() * 1000)"
   ]
  },
  {
   "cell_type": "code",
   "execution_count": 27,
   "metadata": {},
   "outputs": [
    {
     "data": {
      "text/plain": [
       "datetime.datetime(2022, 10, 13, 20, 1, 41, 264301)"
      ]
     },
     "execution_count": 27,
     "metadata": {},
     "output_type": "execute_result"
    }
   ],
   "source": [
    "now"
   ]
  },
  {
   "cell_type": "code",
   "execution_count": 26,
   "metadata": {},
   "outputs": [
    {
     "name": "stderr",
     "output_type": "stream",
     "text": [
      "--- request header ---\n",
      "GET /mix/v1/stream HTTP/1.1\n",
      "Upgrade: websocket\n",
      "Host: ws.bitget.com\n",
      "Origin: https://ws.bitget.com\n",
      "Sec-WebSocket-Key: Q76f2xDYNKiYqJW+cpXDvw==\n",
      "Sec-WebSocket-Version: 13\n",
      "Connection: Upgrade\n",
      "Cookie: __cf_bm=LUa5q7IFkMYlzry6QRtt2ieFIqarOPuMd_At8LCundU-1665704918-0-Ae0jY1xVyvGKs6N0uIsoDj6BtdZyMl6JQeHgMCubRLmr4SOzEgUqT8NgPNrEj0GqT8HSuzCwa57zJaiD0cIIntw=\n",
      "\n",
      "\n",
      "-----------------------\n",
      "--- response header ---\n",
      "HTTP/1.1 101 Switching Protocols\n",
      "Date: Fri, 14 Oct 2022 00:02:06 GMT\n",
      "Connection: upgrade\n",
      "upgrade: websocket\n",
      "sec-websocket-accept: JgHgSULT9BRVITEdX1TjgviCtzU=\n",
      "CF-Cache-Status: DYNAMIC\n",
      "Server: cloudflare\n",
      "CF-RAY: 759c0b544c0a2286-MIA\n",
      "-----------------------\n",
      "++Sent raw: b'\\x81\\xfe\\x00\\xc4?\\x7f:\\xb7D]U\\xc7\\x1dE\\x1a\\x95S\\x10]\\xdeQ]\\x16\\x97\\x1d\\x1eH\\xd0L]\\x00\\x97d\\x04\\x18\\xd6O\\x16q\\xd2F]\\x00\\x97\\x1d\\x1d]\\xe8\\x0eF\\x0f\\xd4^\\x1d\\x0e\\xd3\\x0bFX\\x81\\x0b\\x1bX\\xd4\\x06N\\\\\\x80\\r\\x1a\\x03\\x8e[\\x1b\\x08\\xd3\\x08N\\t\\xd3\\x1dS\\x1a\\x95O\\x1eI\\xc4O\\x17H\\xd6L\\x1a\\x18\\x8d\\x1f]y\\xc5F\\x0fN\\xd8k\\r[\\xd3Z\\r\\x08\\x87\\rM\\x18\\x9b\\x1f]N\\xdeR\\x1aI\\xc3^\\x12J\\x95\\x05_\\x18\\x86\\tI\\x0f\\x81\\x06N\\t\\x85\\tH\\x0e\\x80\\x1dS\\x1a\\x95L\\x16]\\xd9\\x1dE\\x1a\\x95\\x0b8|\\xe3rGl\\x82^:q\\xe5{1I\\xf0l0I\\x98T\\x06t\\xcd|\\r|\\xff\\x06Jr\\xd6YKY\\xf4K\\x12w\\x81L:M\\x8a\\x1d\\x02g\\xca'\n",
      "++Sent decoded: fin=1 opcode=1 data=b'{\"op\": \"login\", \"args\": [{\"apiKey\": \"bg_195cab4d49b64dbc91f72e99dd2d713d\", \"passphrase\": \"CryptoTrader2022\", \"timestamp\": \"1665691326747\", \"sign\": \"4GFTM8V5aEKRDNsGSOs/kyNzCrFH95Haf4cCtmM6sEw=\"}]}'\n"
     ]
    },
    {
     "name": "stdout",
     "output_type": "stream",
     "text": [
      "Opened connection\n"
     ]
    },
    {
     "name": "stderr",
     "output_type": "stream",
     "text": [
      "++Rcv raw: b'\\x81@{\"event\":\"error\",\"code\":30014,\"msg\":\"Timestamp request expired\"}'\n",
      "++Rcv decoded: fin=1 opcode=1 data=b'{\"event\":\"error\",\"code\":30014,\"msg\":\"Timestamp request expired\"}'\n",
      "++Sent raw: b'\\x88\\x82\\xb9dg\\xab\\xba\\x8c'\n",
      "++Sent decoded: fin=1 opcode=8 data=b'\\x03\\xe8'\n"
     ]
    },
    {
     "name": "stdout",
     "output_type": "stream",
     "text": [
      "{\"event\":\"error\",\"code\":30014,\"msg\":\"Timestamp request expired\"}\n"
     ]
    }
   ],
   "source": [
    "socket = \"wss://ws.bitget.com/mix/v1/stream\"    \n",
    "websocket.enableTrace(True)             \n",
    "# ws = websocket.WebSocketApp(socket, \n",
    "#                             on_open=on_open, \n",
    "#                             on_message=on_message,\n",
    "#                             on_close=on_close) \n",
    "\n",
    "# wst = threading.Thread(target=lambda: ws.run_forever())\n",
    "# wst.daemon = True\n",
    "# wst.start()\n",
    "ws = websocket.WebSocket()\n",
    "ws.connect(socket)\n",
    "on_open(ws)\n",
    "print(ws.recv())\n",
    "ws.close()"
   ]
  },
  {
   "cell_type": "code",
   "execution_count": null,
   "metadata": {},
   "outputs": [],
   "source": [
    "from "
   ]
  }
 ],
 "metadata": {
  "kernelspec": {
   "display_name": "Python 3.8.10 ('crypto-traders-hub-3UA4Rnji')",
   "language": "python",
   "name": "python3"
  },
  "language_info": {
   "codemirror_mode": {
    "name": "ipython",
    "version": 3
   },
   "file_extension": ".py",
   "mimetype": "text/x-python",
   "name": "python",
   "nbconvert_exporter": "python",
   "pygments_lexer": "ipython3",
   "version": "3.8.10"
  },
  "orig_nbformat": 4,
  "vscode": {
   "interpreter": {
    "hash": "4aa34321d2af8d6e1332b708d643a13ae853c0a46ca9cfe32a5bbd58e51f6a3a"
   }
  }
 },
 "nbformat": 4,
 "nbformat_minor": 2
}
